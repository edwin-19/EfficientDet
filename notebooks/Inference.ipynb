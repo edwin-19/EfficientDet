{
 "cells": [
  {
   "cell_type": "code",
   "execution_count": 1,
   "id": "prescribed-authority",
   "metadata": {},
   "outputs": [],
   "source": [
    "import torch\n",
    "import torch.nn as nn\n",
    "import pytorch_lightning as pl\n",
    "from pytorch_lightning.core.decorators import auto_move_data\n",
    "import timm\n",
    "\n",
    "from effdet import EfficientDet, DetBenchTrain, get_efficientdet_config\n",
    "from effdet.config.model_config import efficientdet_model_param_dict\n",
    "from effdet.efficientdet import HeadNet"
   ]
  },
  {
   "cell_type": "code",
   "execution_count": 6,
   "id": "executed-swift",
   "metadata": {},
   "outputs": [],
   "source": [
    "import cv2\n",
    "import albumentations as A\n",
    "from albumentations.pytorch.transforms import ToTensorV2\n",
    "from ensemble_boxes import ensemble_boxes_wbf"
   ]
  },
  {
   "cell_type": "markdown",
   "id": "steady-selling",
   "metadata": {},
   "source": [
    "# Build model & load weights"
   ]
  },
  {
   "cell_type": "code",
   "execution_count": 2,
   "id": "narrative-dominican",
   "metadata": {},
   "outputs": [],
   "source": [
    "# Function to build effdet model\n",
    "def create_model(\n",
    "    num_classes=3, image_size=512, architecture=\"tf_efficientnetv2_l\"\n",
    "):\n",
    "    efficientdet_model_param_dict[architecture] = dict(\n",
    "        name=architecture,\n",
    "        backbone_name=architecture,\n",
    "        backbone_args=dict(drop_path_rate=0.2),\n",
    "        num_classes=num_classes,\n",
    "        url='', )\n",
    "    \n",
    "    config = get_efficientdet_config(architecture)\n",
    "    config.update({'num_classes': num_classes})\n",
    "    config.update({'image_size': (image_size, image_size)})\n",
    "        \n",
    "    net = EfficientDet(config, pretrained_backbone=True)\n",
    "    net.class_net = HeadNet(\n",
    "        config, num_outputs=config.num_classes\n",
    "    )\n",
    "    return DetBenchTrain(net, config)"
   ]
  },
  {
   "cell_type": "code",
   "execution_count": 9,
   "id": "blind-pointer",
   "metadata": {},
   "outputs": [],
   "source": [
    "class EfficientDetModel(pl.LightningModule):\n",
    "    def __init__(\n",
    "        self,\n",
    "        num_classes=3,\n",
    "        img_size=512,\n",
    "        prediction_confidence_threshold=0.2,\n",
    "        learning_rate=0.0002,\n",
    "        wbf_iou_threshold=0.44,\n",
    "        model_architecture='tf_efficientnetv2_l',\n",
    "    ):\n",
    "        super(EfficientDetModel, self).__init__()\n",
    "        self.model = create_model(\n",
    "            num_classes, img_size, architecture=model_architecture\n",
    "        )\n",
    "        \n",
    "    @auto_move_data\n",
    "    def forward(self, images, targets):\n",
    "        return self.model(images, targets)"
   ]
  },
  {
   "cell_type": "code",
   "execution_count": 10,
   "id": "present-beauty",
   "metadata": {},
   "outputs": [],
   "source": [
    "model = EfficientDetModel()\n",
    "model = model.load_from_checkpoint('weights/effdet_l.ckpt')\n",
    "\n",
    "model.eval();"
   ]
  },
  {
   "cell_type": "markdown",
   "id": "bridal-shark",
   "metadata": {},
   "source": [
    "# Run image for inference"
   ]
  },
  {
   "cell_type": "code",
   "execution_count": null,
   "id": "familiar-drill",
   "metadata": {},
   "outputs": [],
   "source": []
  }
 ],
 "metadata": {
  "kernelspec": {
   "display_name": "Python 3",
   "language": "python",
   "name": "python3"
  },
  "language_info": {
   "codemirror_mode": {
    "name": "ipython",
    "version": 3
   },
   "file_extension": ".py",
   "mimetype": "text/x-python",
   "name": "python",
   "nbconvert_exporter": "python",
   "pygments_lexer": "ipython3",
   "version": "3.8.8"
  }
 },
 "nbformat": 4,
 "nbformat_minor": 5
}

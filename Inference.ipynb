{
 "cells": [
  {
   "cell_type": "code",
   "execution_count": 1,
   "id": "identical-palmer",
   "metadata": {},
   "outputs": [],
   "source": [
    "import torch\n",
    "import torch.nn as nn\n",
    "import torch.nn.functional as F\n",
    "\n",
    "import cv2\n",
    "from PIL import Image\n",
    "import numpy as np\n",
    "from matplotlib import pyplot as plt\n",
    "from ensemble_boxes import ensemble_boxes_wbf\n",
    "import glob\n",
    "from xml.etree import ElementTree as ET\n",
    "import os\n",
    "import albumentations as A\n",
    "from albumentations.pytorch.transforms import ToTensorV2\n",
    "\n",
    "from model import EffcientDetModel"
   ]
  },
  {
   "cell_type": "markdown",
   "id": "different-rating",
   "metadata": {},
   "source": [
    "# Load model & prepare loader"
   ]
  },
  {
   "cell_type": "code",
   "execution_count": 2,
   "id": "normal-curve",
   "metadata": {
    "scrolled": true
   },
   "outputs": [
    {
     "name": "stderr",
     "output_type": "stream",
     "text": [
      "Global seed set to 142\n"
     ]
    }
   ],
   "source": [
    "model = EffcientDetModel(\n",
    "    task='predict', model_architecture='tf_efficientnetv2_l'\n",
    ")"
   ]
  },
  {
   "cell_type": "code",
   "execution_count": 3,
   "id": "cathedral-feeling",
   "metadata": {},
   "outputs": [],
   "source": [
    "model.load_state_dict(torch.load('weights/effdet_fruits_l.pth'))\n",
    "model.to('cuda')\n",
    "model.eval();"
   ]
  },
  {
   "cell_type": "code",
   "execution_count": 4,
   "id": "muslim-hearing",
   "metadata": {},
   "outputs": [],
   "source": [
    "gts = glob.glob('data/archive/test_zip/test/*.xml')"
   ]
  },
  {
   "cell_type": "code",
   "execution_count": 5,
   "id": "charming-astrology",
   "metadata": {},
   "outputs": [],
   "source": [
    "transforms = A.Compose(\n",
    "    [\n",
    "        A.Resize(height=512, width=512, p=1),\n",
    "        A.Normalize([0.485, 0.456, 0.406], [0.229, 0.224, 0.225]),\n",
    "        ToTensorV2(p=1)\n",
    "    ]\n",
    ")"
   ]
  },
  {
   "cell_type": "code",
   "execution_count": 6,
   "id": "charged-documentary",
   "metadata": {},
   "outputs": [],
   "source": [
    "labels = {\n",
    "    'orange': 0,\n",
    "    'banana': 1,\n",
    "    'apple': 2\n",
    "}\n",
    "\n",
    "index_labels = {\n",
    "    0: 'orange',\n",
    "    1: 'banana',\n",
    "    2: 'apple'\n",
    "}"
   ]
  },
  {
   "cell_type": "markdown",
   "id": "distinct-start",
   "metadata": {},
   "source": [
    "# Prepare data"
   ]
  },
  {
   "cell_type": "code",
   "execution_count": 7,
   "id": "olive-treat",
   "metadata": {},
   "outputs": [],
   "source": [
    "selected_gt = np.random.choice(gts)"
   ]
  },
  {
   "cell_type": "code",
   "execution_count": 8,
   "id": "latin-difference",
   "metadata": {},
   "outputs": [],
   "source": [
    "root = ET.parse(selected_gt)"
   ]
  },
  {
   "cell_type": "code",
   "execution_count": 9,
   "id": "informative-lawyer",
   "metadata": {},
   "outputs": [],
   "source": [
    "image_name = root.find('filename').text\n",
    "image_path = glob.glob(os.path.join('data/archive/test_zip/test/', image_name))[0]\n",
    "img = cv2.imread(image_path)"
   ]
  },
  {
   "cell_type": "code",
   "execution_count": 10,
   "id": "universal-north",
   "metadata": {},
   "outputs": [],
   "source": [
    "labelled_data = []\n",
    "for obj in root.findall('object'):\n",
    "    tmp_data = []\n",
    "    tmp_data.append(labels[obj.find('name').text])\n",
    "    for bb in obj.find('bndbox'):\n",
    "        tmp_data.append(int(bb.text))\n",
    "        \n",
    "    labelled_data.append(tmp_data)\n",
    "    \n",
    "labelled_data = np.array(labelled_data)"
   ]
  },
  {
   "cell_type": "code",
   "execution_count": 11,
   "id": "micro-matthew",
   "metadata": {},
   "outputs": [],
   "source": [
    "sample = transforms(image=img)"
   ]
  },
  {
   "cell_type": "code",
   "execution_count": 12,
   "id": "champion-novelty",
   "metadata": {},
   "outputs": [],
   "source": [
    "img_tensor = sample['image'].unsqueeze(0).cuda()"
   ]
  },
  {
   "cell_type": "code",
   "execution_count": 13,
   "id": "indian-documentary",
   "metadata": {},
   "outputs": [],
   "source": [
    "outputs = model.model(img_tensor)"
   ]
  },
  {
   "cell_type": "markdown",
   "id": "dynamic-dubai",
   "metadata": {},
   "source": [
    "# Post processing"
   ]
  },
  {
   "cell_type": "code",
   "execution_count": 14,
   "id": "bronze-emerald",
   "metadata": {},
   "outputs": [],
   "source": [
    "pred_boxes = outputs[0].detach().cpu().numpy()[:, :4]\n",
    "pred_scores = outputs[0].detach().cpu().numpy()[:, 4]\n",
    "pred_classes = outputs[0].detach().cpu().numpy()[:, 5]\n",
    "indexes = np.where(pred_scores > 0.2)[0]\n",
    "pred_boxes = pred_boxes[indexes]\n",
    "pred_scores = pred_scores[indexes]\n",
    "pred_classes = pred_classes[indexes]"
   ]
  },
  {
   "cell_type": "code",
   "execution_count": 15,
   "id": "auburn-sunglasses",
   "metadata": {},
   "outputs": [
    {
     "name": "stderr",
     "output_type": "stream",
     "text": [
      "/home/superceed1/anaconda3/envs/py38torch17/lib/python3.8/site-packages/ensemble_boxes/ensemble_boxes_wbf.py:64: UserWarning: X1 < 0 in box. Set it to 0.\n",
      "  warnings.warn('X1 < 0 in box. Set it to 0.')\n"
     ]
    }
   ],
   "source": [
    "bboxes = [(pred_boxes / 512).tolist()]\n",
    "confidences = [pred_scores.tolist()]\n",
    "class_labels = [pred_classes.tolist()]\n",
    "\n",
    "boxes, scores, label = ensemble_boxes_wbf.weighted_boxes_fusion(\n",
    "    bboxes, confidences, class_labels, \n",
    "    weights=None, iou_thr=0.5, skip_box_thr=0.0001\n",
    ")\n",
    "\n",
    "boxes = boxes * (512 - 1)"
   ]
  },
  {
   "cell_type": "code",
   "execution_count": 16,
   "id": "curious-payroll",
   "metadata": {},
   "outputs": [],
   "source": [
    "scaled_bboxes = np.array(boxes) * [\n",
    "    img.shape[1] / 512,\n",
    "    img.shape[0] / 512,\n",
    "    img.shape[1] / 512,\n",
    "    img.shape[0] / 512,\n",
    "]"
   ]
  },
  {
   "cell_type": "code",
   "execution_count": 17,
   "id": "loving-heavy",
   "metadata": {},
   "outputs": [
    {
     "data": {
      "text/plain": [
       "<matplotlib.image.AxesImage at 0x7f3b72a06e20>"
      ]
     },
     "execution_count": 17,
     "metadata": {},
     "output_type": "execute_result"
    },
    {
     "data": {
      "image/png": "[encoded data removed]",
      "text/plain": [
       "<Figure size 432x288 with 1 Axes>"
      ]
     },
     "metadata": {
      "needs_background": "light"
     },
     "output_type": "display_data"
    }
   ],
   "source": [
    "img = cv2.imread(image_path)\n",
    "for i, box in enumerate(scaled_bboxes):\n",
    "    box = box.astype(np.int)\n",
    "    cv2.rectangle(\n",
    "        img,\n",
    "        (box[0], box[1]),\n",
    "        (box[2], box[3]),\n",
    "        (0, 0, 255), 2\n",
    "    )\n",
    "    cv2.putText(\n",
    "        img, index_labels[label[i]], (box[0], box[1]), \n",
    "        cv2.FONT_HERSHEY_COMPLEX, 1, (0, 0, 0), 2\n",
    "    )\n",
    "\n",
    "plt.imshow(cv2.cvtColor(img, cv2.COLOR_BGR2RGB))"
   ]
  }
 ],
 "metadata": {
  "kernelspec": {
   "display_name": "Python 3",
   "language": "python",
   "name": "python3"
  },
  "language_info": {
   "codemirror_mode": {
    "name": "ipython",
    "version": 3
   },
   "file_extension": ".py",
   "mimetype": "text/x-python",
   "name": "python",
   "nbconvert_exporter": "python",
   "pygments_lexer": "ipython3",
   "version": "3.8.8"
  }
 },
 "nbformat": 4,
 "nbformat_minor": 5
}
